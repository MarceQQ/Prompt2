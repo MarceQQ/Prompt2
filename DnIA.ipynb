{
 "cells": [
  {
   "cell_type": "code",
   "execution_count": 4,
   "id": "d3098e3b-0023-4b87-a0c3-3ea50581c69e",
   "metadata": {},
   "outputs": [
    {
     "data": {
      "text/plain": [
       "'\\nEjecutar en terminal:\\npip install python-dotenv google-generativeai ipywidgets\\n'"
      ]
     },
     "execution_count": 4,
     "metadata": {},
     "output_type": "execute_result"
    }
   ],
   "source": [
    "\"\"\"\n",
    "Ejecutar en terminal:\n",
    "pip install python-dotenv google-generativeai ipywidgets\n",
    "\"\"\"\n"
   ]
  },
  {
   "cell_type": "code",
   "execution_count": 5,
   "id": "4e981866-859b-427b-956f-2c33bf01884f",
   "metadata": {},
   "outputs": [],
   "source": [
    "# %% Módulo 2: Configuración de API Key (ejecutar primero)\n",
    "import google.generativeai as genai\n",
    "from getpass import getpass\n",
    "\n",
    "# Ingreso manual de API Key\n",
    "API_KEY = (\"Ingrese api Key Gemini\")\n",
    "\n",
    "# Configurar el modelo\n",
    "genai.configure(api_key=API_KEY)"
   ]
  },
  {
   "cell_type": "code",
   "execution_count": 6,
   "id": "2869d7c4-4165-4d0e-b8d7-29758af324bf",
   "metadata": {},
   "outputs": [
    {
     "data": {
      "text/html": [
       "\n",
       "<style>\n",
       ".chat-container {border: 2px solid #4A5568; border-radius: 10px; padding: 20px;\n",
       "                max-height: 500px; overflow-y: auto; background: #1A202C; margin-bottom: 20px;}\n",
       ".user-message {color: #E2E8F0; background: #2D3748; padding: 10px; border-radius: 5px;\n",
       "              margin: 5px 0; max-width: 80%; float: right; clear: both;}\n",
       ".dm-message {color: #CBD5E0; background: #4A5568; padding: 10px; border-radius: 5px;\n",
       "            margin: 5px 0; max-width: 80%; float: left; clear: both;}\n",
       ".spinner {border: 4px solid #f3f3f3; border-top: 4px solid #3498db; border-radius: 50%;\n",
       "         width: 30px; height: 30px; animation: spin 1s linear infinite; margin: 10px auto;}\n",
       "@keyframes spin {0% {transform: rotate(0deg);} 100% {transform: rotate(360deg);}}\n",
       "</style>\n"
      ],
      "text/plain": [
       "<IPython.core.display.HTML object>"
      ]
     },
     "metadata": {},
     "output_type": "display_data"
    },
    {
     "data": {
      "text/html": [
       "<h1 style='color: #E2E8F0'>🎲 D&D AI Dungeon Master</h1>"
      ],
      "text/plain": [
       "<IPython.core.display.HTML object>"
      ]
     },
     "metadata": {},
     "output_type": "display_data"
    },
    {
     "data": {
      "application/vnd.jupyter.widget-view+json": {
       "model_id": "b89ab95a4de44156804ad3cef8de40db",
       "version_major": 2,
       "version_minor": 0
      },
      "text/plain": [
       "Output()"
      ]
     },
     "metadata": {},
     "output_type": "display_data"
    },
    {
     "data": {
      "application/vnd.jupyter.widget-view+json": {
       "model_id": "13be9b3a01e14e3bbe4c44126e15218c",
       "version_major": 2,
       "version_minor": 0
      },
      "text/plain": [
       "HBox(children=(Text(value='', layout=Layout(margin='10px 0', width='80%'), placeholder='¿Qué hace tu personaje…"
      ]
     },
     "metadata": {},
     "output_type": "display_data"
    }
   ],
   "source": [
    "# %% Módulo 3: Código principal\n",
    "from IPython.display import display, HTML, clear_output\n",
    "import ipywidgets as widgets\n",
    "\n",
    "# Estilos CSS\n",
    "CSS = \"\"\"\n",
    "<style>\n",
    ".chat-container {border: 2px solid #4A5568; border-radius: 10px; padding: 20px;\n",
    "                max-height: 500px; overflow-y: auto; background: #1A202C; margin-bottom: 20px;}\n",
    ".user-message {color: #E2E8F0; background: #2D3748; padding: 10px; border-radius: 5px;\n",
    "              margin: 5px 0; max-width: 80%; float: right; clear: both;}\n",
    ".dm-message {color: #CBD5E0; background: #4A5568; padding: 10px; border-radius: 5px;\n",
    "            margin: 5px 0; max-width: 80%; float: left; clear: both;}\n",
    ".spinner {border: 4px solid #f3f3f3; border-top: 4px solid #3498db; border-radius: 50%;\n",
    "         width: 30px; height: 30px; animation: spin 1s linear infinite; margin: 10px auto;}\n",
    "@keyframes spin {0% {transform: rotate(0deg);} 100% {transform: rotate(360deg);}}\n",
    "</style>\n",
    "\"\"\"\n",
    "display(HTML(CSS))\n",
    "\n",
    "class DnDApp:\n",
    "    def __init__(self):\n",
    "        self.historial = []\n",
    "        self.model = genai.GenerativeModel('gemini-pro')\n",
    "        self._crear_interfaz()\n",
    "    \n",
    "    def _crear_interfaz(self):\n",
    "        self.input_accion = widgets.Text(\n",
    "            placeholder=\"¿Qué hace tu personaje?\",\n",
    "            layout=widgets.Layout(width=\"80%\", margin=\"10px 0\")\n",
    "        )\n",
    "        self.boton_enviar = widgets.Button(\n",
    "            description=\"Enviar acción\",\n",
    "            button_style=\"primary\",\n",
    "            layout=widgets.Layout(width=\"20%\", margin=\"10px 0\")\n",
    "        )\n",
    "        self.chat_container = widgets.Output()\n",
    "        self.boton_enviar.on_click(self._procesar_accion)\n",
    "    \n",
    "    def _gestionar_historial(self):\n",
    "        if len(self.historial) > 4:\n",
    "            self.historial = self.historial[-4:]\n",
    "    \n",
    "    def _generar_respuesta(self, prompt):\n",
    "        try:\n",
    "            self._gestionar_historial()\n",
    "            contexto = \"\\n\".join([f\"{msg['role']}: {msg['content']}\" \n",
    "                                for msg in self.historial[-2:]])\n",
    "            \n",
    "            prompt_estructurado = f\"\"\"\n",
    "            [ROL] Eres un Dungeon Master de D&D 5e experto. Reglas:\n",
    "            1. Mantén coherencia con el escenario actual\n",
    "            2. Máximo 3 párrafos breves\n",
    "            3. Nunca asumas acciones del jugador\n",
    "            4. Progresa la historia gradualmente\n",
    "\n",
    "            [CONTEXTO] {contexto}\n",
    "            [ACCIÓN DEL JUGADOR] {prompt}\n",
    "            [RESPUESTA DM] • Describe consecuencias lógicas • Mantén el ambiente establecido\n",
    "            • Usa diálogos NPC cuando sea relevante • Incluye posibles caminos de acción\n",
    "            \"\"\"\n",
    "            \n",
    "            response = self.model.generate_content(prompt_estructurado)\n",
    "            return response.text\n",
    "        except Exception as e:\n",
    "            return f\"⚡ Error: {str(e)}\"\n",
    "    \n",
    "    def _mostrar_chat(self):\n",
    "        with self.chat_container:\n",
    "            clear_output(wait=True)\n",
    "            display(HTML(\"<div class='chat-container'>\"))\n",
    "            for msg in self.historial:\n",
    "                clase = \"user-message\" if msg[\"role\"] == \"user\" else \"dm-message\"\n",
    "                display(HTML(f\"<div class='{clase}'><strong>{msg['role'].title()}:</strong> {msg['content']}</div>\"))\n",
    "            display(HTML(\"</div>\"))\n",
    "    \n",
    "    def _procesar_accion(self, _):\n",
    "        prompt = self.input_accion.value.strip()\n",
    "        if not prompt: return\n",
    "        \n",
    "        self.historial.append({\"role\": \"user\", \"content\": prompt})\n",
    "        self._mostrar_chat()\n",
    "        \n",
    "        with self.chat_container:\n",
    "            display(HTML(\"<div class='spinner'></div>\"))\n",
    "        \n",
    "        try:\n",
    "            respuesta = self._generar_respuesta(prompt)\n",
    "            self.historial.append({\"role\": \"assistant\", \"content\": respuesta})\n",
    "        except Exception as e:\n",
    "            self.historial.append({\"role\": \"assistant\", \"content\": f\"Error: {str(e)}\"})\n",
    "        \n",
    "        self.input_accion.value = \"\"\n",
    "        self._mostrar_chat()\n",
    "    \n",
    "    def iniciar(self):\n",
    "        display(HTML(\"<h1 style='color: #E2E8F0'>🎲 D&D AI Dungeon Master</h1>\"))\n",
    "        display(self.chat_container)\n",
    "        display(widgets.HBox([self.input_accion, self.boton_enviar]))\n",
    "\n",
    "# Ejecutar la aplicación\n",
    "app = DnDApp()\n",
    "app.iniciar()"
   ]
  },
  {
   "cell_type": "code",
   "execution_count": null,
   "id": "7a76e055-8808-4ca0-8302-ba726edd390c",
   "metadata": {},
   "outputs": [],
   "source": []
  }
 ],
 "metadata": {
  "kernelspec": {
   "display_name": "Python 3 (ipykernel)",
   "language": "python",
   "name": "python3"
  },
  "language_info": {
   "codemirror_mode": {
    "name": "ipython",
    "version": 3
   },
   "file_extension": ".py",
   "mimetype": "text/x-python",
   "name": "python",
   "nbconvert_exporter": "python",
   "pygments_lexer": "ipython3",
   "version": "3.10.16"
  }
 },
 "nbformat": 4,
 "nbformat_minor": 5
}
